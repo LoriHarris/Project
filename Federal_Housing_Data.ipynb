{
 "cells": [
  {
   "cell_type": "code",
   "execution_count": 124,
   "metadata": {},
   "outputs": [],
   "source": [
    "import pandas as pd\n",
    "import matplotlib.pyplot as plt\n",
    "import numpy as np"
   ]
  },
  {
   "cell_type": "code",
   "execution_count": null,
   "metadata": {},
   "outputs": [],
   "source": [
    "fnm_data_to_load = \"Data_files/2017_SFCensusTractFNM2017/fnma_sf2017c_loans.txt\"\n",
    "fnm_data = pd.read_table(fnm_data_to_load, delim_whitespace=True)"
   ]
  },
  {
   "cell_type": "code",
   "execution_count": 81,
   "metadata": {},
   "outputs": [],
   "source": [
    "fnm_data.columns= ['Enterprise Flag', \n",
    "                   'Record Number', \n",
    "                   'US Postal State Code', \n",
    "                   'Metropolitan Statistical Area (MSA) Code', \n",
    "                   'County - 2010 Census',\n",
    "                   'Census Tract - 2010 Census', \n",
    "                   '2010 Census Tract - Percent Minority', \n",
    "                   '2010 Census Tract - Median Income', \n",
    "                   'Local Area Median Income', \n",
    "                   'Tract Income Ratio', \n",
    "                   'Borrower’s (or Borrowers’) Annual Income', \n",
    "                   'Area Median Family Income (2017)', \n",
    "                   'Borrower Income Ratio', \n",
    "                  'Acquisition Unpaid Principal Balance (UPB) ', \n",
    "                   'Purpose of Loan', \n",
    "                   'Federal Guarantee ', \n",
    "                   'Number of Borrowers',\n",
    "                  'First-Time Home Buyer ', \n",
    "                   'Borrower Race or National Origin 1 ', \n",
    "                   'Borrower Race or National Origin 2 ', \n",
    "                   'Borrower Race or National Origin 3 ', \n",
    "                   'Borrower Race or National Origin 4 ', \n",
    "                   'Borrower Race or National Origin 5 ', \n",
    "                   'Borrower Ethnicity ',\n",
    "                   'Co-Borrower Race or National Origin 1',\n",
    "                   'Co-Borrower Race or National Origin 2',\n",
    "                   'Co-Borrower Race or National Origin 3',\n",
    "                   'Co-Borrower Race or National Origin 4',\n",
    "                   'Co-Borrower Race or National Origin 5',\n",
    "                  'Co-Borrower Ethnicity', \n",
    "                   'Borrower Gender', \n",
    "                   'Co-Borrower Gender', \n",
    "                   'Age of Borrower', \n",
    "                   'Age of Co-Borrower',\n",
    "                  'Occupancy Code',\n",
    "                   'Rate Spread', \n",
    "                   'HOEPA Status', \n",
    "                   'Property Type',\n",
    "                   'Lien Status' ]"
   ]
  },
  {
   "cell_type": "code",
   "execution_count": null,
   "metadata": {},
   "outputs": [],
   "source": [
    "fre_data_to_load = 'Data_files/2017_SFCensusTractFRE2017/fhlmc_sf2017c_loans.txt'\n",
    "fre_data = pd.read_table(fre_data_to_load, delim_whitespace=True)"
   ]
  },
  {
   "cell_type": "code",
   "execution_count": 82,
   "metadata": {},
   "outputs": [],
   "source": [
    "fre_data.columns= ['Enterprise Flag', \n",
    "                   'Record Number', \n",
    "                   'US Postal State Code', \n",
    "                   'Metropolitan Statistical Area (MSA) Code', \n",
    "                   'County - 2010 Census',\n",
    "                   'Census Tract - 2010 Census', \n",
    "                   '2010 Census Tract - Percent Minority', \n",
    "                   '2010 Census Tract - Median Income', \n",
    "                   'Local Area Median Income', \n",
    "                   'Tract Income Ratio', \n",
    "                   'Borrower’s (or Borrowers’) Annual Income', \n",
    "                   'Area Median Family Income (2017)', \n",
    "                   'Borrower Income Ratio', \n",
    "                  'Acquisition Unpaid Principal Balance (UPB) ', \n",
    "                   'Purpose of Loan', \n",
    "                   'Federal Guarantee ', \n",
    "                   'Number of Borrowers',\n",
    "                  'First-Time Home Buyer ', \n",
    "                   'Borrower Race or National Origin 1 ', \n",
    "                   'Borrower Race or National Origin 2 ', \n",
    "                   'Borrower Race or National Origin 3 ', \n",
    "                   'Borrower Race or National Origin 4 ', \n",
    "                   'Borrower Race or National Origin 5 ', \n",
    "                   'Borrower Ethnicity ',\n",
    "                   'Co-Borrower Race or National Origin 1',\n",
    "                   'Co-Borrower Race or National Origin 2',\n",
    "                   'Co-Borrower Race or National Origin 3',\n",
    "                   'Co-Borrower Race or National Origin 4',\n",
    "                   'Co-Borrower Race or National Origin 5',\n",
    "                  'Co-Borrower Ethnicity', \n",
    "                   'Borrower Gender', \n",
    "                   'Co-Borrower Gender', \n",
    "                   'Age of Borrower', \n",
    "                   'Age of Co-Borrower',\n",
    "                  'Occupancy Code',\n",
    "                   'Rate Spread', \n",
    "                   'HOEPA Status', \n",
    "                   'Property Type',\n",
    "                   'Lien Status' ]"
   ]
  },
  {
   "cell_type": "code",
   "execution_count": 84,
   "metadata": {},
   "outputs": [],
   "source": [
    "frames = [fre_data, fnm_data]"
   ]
  },
  {
   "cell_type": "code",
   "execution_count": 86,
   "metadata": {},
   "outputs": [],
   "source": [
    "complete_data = pd.concat(frames)"
   ]
  },
  {
   "cell_type": "markdown",
   "metadata": {},
   "source": [
    "complete_data.columns= ['Enterprise Flag', \n",
    "                   'Record Number', \n",
    "                   'US Postal State Code', \n",
    "                   'Metropolitan Statistical Area (MSA) Code', \n",
    "                   'County - 2010 Census',\n",
    "                   'Census Tract - 2010 Census', \n",
    "                   '2010 Census Tract - Percent Minority', \n",
    "                   '2010 Census Tract - Median Income', \n",
    "                   'Local Area Median Income', \n",
    "                   'Tract Income Ratio', \n",
    "                   'Borrower’s (or Borrowers’) Annual Income', \n",
    "                   'Area Median Family Income (2017)', \n",
    "                   'Borrower Income Ratio', \n",
    "                  'Acquisition Unpaid Principal Balance (UPB) ', \n",
    "                   'Purpose of Loan', \n",
    "                   'Federal Guarantee ', \n",
    "                   'Number of Borrowers',\n",
    "                  'First-Time Home Buyer ', \n",
    "                   'Borrower Race or National Origin 1 ', \n",
    "                   'Borrower Race or National Origin 2 ', \n",
    "                   'Borrower Race or National Origin 3 ', \n",
    "                   'Borrower Race or National Origin 4 ', \n",
    "                   'Borrower Race or National Origin 5 ', \n",
    "                   'Borrower Ethnicity ',\n",
    "                   'Co-Borrower Race or National Origin 1',\n",
    "                   'Co-Borrower Race or National Origin 2',\n",
    "                   'Co-Borrower Race or National Origin 3',\n",
    "                   'Co-Borrower Race or National Origin 4',\n",
    "                   'Co-Borrower Race or National Origin 5',\n",
    "                  'Co-Borrower Ethnicity', \n",
    "                   'Borrower Gender', \n",
    "                   'Co-Borrower Gender', \n",
    "                   'Age of Borrower', \n",
    "                   'Age of Co-Borrower',\n",
    "                  'Occupancy Code',\n",
    "                   'Rate Spread', \n",
    "                   'HOEPA Status', \n",
    "                   'Property Type',\n",
    "                   'Lien Status' ]"
   ]
  },
  {
   "cell_type": "code",
   "execution_count": 108,
   "metadata": {},
   "outputs": [
    {
     "data": {
      "text/plain": [
       "0          1.9518\n",
       "1          2.4724\n",
       "2          2.0785\n",
       "3          2.0823\n",
       "4          1.4620\n",
       "5          2.0569\n",
       "6          1.4119\n",
       "7          1.3629\n",
       "8          2.4161\n",
       "9          0.5622\n",
       "10         0.4051\n",
       "11         0.1878\n",
       "12         2.3980\n",
       "13         1.7273\n",
       "14         1.6174\n",
       "15         2.0807\n",
       "16         3.3965\n",
       "17         2.1808\n",
       "18         1.7263\n",
       "19         1.2131\n",
       "20         1.8127\n",
       "21         1.7188\n",
       "22         1.9947\n",
       "23         1.1772\n",
       "24         1.7039\n",
       "25         1.4665\n",
       "26         1.0575\n",
       "27         0.8613\n",
       "28         2.5385\n",
       "29         0.9333\n",
       "            ...  \n",
       "2216869    2.1150\n",
       "2216870    0.5646\n",
       "2216871    1.3245\n",
       "2216872    1.4878\n",
       "2216873    0.7188\n",
       "2216874    1.1198\n",
       "2216875    1.1409\n",
       "2216876    3.1544\n",
       "2216877    0.9890\n",
       "2216878    1.6026\n",
       "2216879    1.1186\n",
       "2216880    0.7890\n",
       "2216881    1.5208\n",
       "2216882    1.5949\n",
       "2216883    1.0142\n",
       "2216884    1.4766\n",
       "2216885    0.6947\n",
       "2216886    1.0708\n",
       "2216887    4.1678\n",
       "2216888    0.7855\n",
       "2216889    1.0178\n",
       "2216890    1.1934\n",
       "2216891    1.3997\n",
       "2216892    1.8259\n",
       "2216893    2.0537\n",
       "2216894    1.8781\n",
       "2216895    1.0876\n",
       "2216896    0.8053\n",
       "2216897    1.6499\n",
       "2216898    1.6324\n",
       "Name: Borrower Income Ratio, Length: 3705045, dtype: float64"
      ]
     },
     "execution_count": 108,
     "metadata": {},
     "output_type": "execute_result"
    }
   ],
   "source": [
    "complete_data['Borrower Income Ratio']"
   ]
  },
  {
   "cell_type": "code",
   "execution_count": 92,
   "metadata": {},
   "outputs": [
    {
     "data": {
      "text/plain": [
       "110800.35339219902"
      ]
     },
     "execution_count": 92,
     "metadata": {},
     "output_type": "execute_result"
    }
   ],
   "source": [
    "incomes = complete_data['Borrower’s (or Borrowers’) Annual Income'].mean()\n",
    "incomes"
   ]
  },
  {
   "cell_type": "code",
   "execution_count": 91,
   "metadata": {},
   "outputs": [
    {
     "data": {
      "text/plain": [
       "2326235"
      ]
     },
     "execution_count": 91,
     "metadata": {},
     "output_type": "execute_result"
    }
   ],
   "source": [
    "males = complete_data.loc[complete_data['Borrower Gender'] == 1]\n",
    "males_count= males[\"Enterprise Flag\"].count()\n",
    "males_count"
   ]
  },
  {
   "cell_type": "code",
   "execution_count": 90,
   "metadata": {},
   "outputs": [
    {
     "data": {
      "text/plain": [
       "1110531"
      ]
     },
     "execution_count": 90,
     "metadata": {},
     "output_type": "execute_result"
    }
   ],
   "source": [
    "females = complete_data.loc[complete_data['Borrower Gender'] == 2]\n",
    "females_count= females[\"Enterprise Flag\"].count()\n",
    "females_count"
   ]
  },
  {
   "cell_type": "code",
   "execution_count": 89,
   "metadata": {},
   "outputs": [
    {
     "data": {
      "text/plain": [
       "210"
      ]
     },
     "execution_count": 89,
     "metadata": {},
     "output_type": "execute_result"
    }
   ],
   "source": [
    "FHA = complete_data.loc[complete_data['Federal Guarantee '] == 2]\n",
    "FHA_count= FHA[\"Enterprise Flag\"].count()\n",
    "FHA_count"
   ]
  },
  {
   "cell_type": "code",
   "execution_count": 93,
   "metadata": {},
   "outputs": [
    {
     "data": {
      "text/plain": [
       "3702938"
      ]
     },
     "execution_count": 93,
     "metadata": {},
     "output_type": "execute_result"
    }
   ],
   "source": [
    "Conv = complete_data.loc[complete_data['Federal Guarantee '] == 1]\n",
    "Conv_count= Conv[\"Enterprise Flag\"].count()\n",
    "Conv_count"
   ]
  },
  {
   "cell_type": "code",
   "execution_count": 94,
   "metadata": {},
   "outputs": [
    {
     "data": {
      "text/plain": [
       "106"
      ]
     },
     "execution_count": 94,
     "metadata": {},
     "output_type": "execute_result"
    }
   ],
   "source": [
    "VA = complete_data.loc[complete_data['Federal Guarantee '] == 3]\n",
    "VA_count= VA[\"Enterprise Flag\"].count()\n",
    "VA_count"
   ]
  },
  {
   "cell_type": "code",
   "execution_count": 95,
   "metadata": {},
   "outputs": [
    {
     "data": {
      "text/plain": [
       "46.34652481852171"
      ]
     },
     "execution_count": 95,
     "metadata": {},
     "output_type": "execute_result"
    }
   ],
   "source": [
    "age = complete_data.loc[complete_data['Age of Borrower'] < 999]\n",
    "age_count = age[\"Age of Borrower\"].mean()\n",
    "age_count"
   ]
  },
  {
   "cell_type": "code",
   "execution_count": 96,
   "metadata": {},
   "outputs": [
    {
     "data": {
      "text/plain": [
       "46.62071473689158"
      ]
     },
     "execution_count": 96,
     "metadata": {},
     "output_type": "execute_result"
    }
   ],
   "source": [
    "co_age = complete_data.loc[complete_data['Age of Co-Borrower'] < 999]\n",
    "co_age\n",
    "co_age_count = co_age[\"Age of Co-Borrower\"].mean()\n",
    "co_age_count"
   ]
  },
  {
   "cell_type": "code",
   "execution_count": 97,
   "metadata": {},
   "outputs": [
    {
     "data": {
      "text/plain": [
       "46.48361977770664"
      ]
     },
     "execution_count": 97,
     "metadata": {},
     "output_type": "execute_result"
    }
   ],
   "source": [
    "average_age = (age_count + co_age_count)/2\n",
    "average_age"
   ]
  },
  {
   "cell_type": "code",
   "execution_count": 98,
   "metadata": {},
   "outputs": [
    {
     "data": {
      "text/plain": [
       "36.06066841564402"
      ]
     },
     "execution_count": 98,
     "metadata": {},
     "output_type": "execute_result"
    }
   ],
   "source": [
    "age = complete_data.loc[complete_data['Age of Borrower'] < 999]\n",
    "age_first_time_loc = age.loc[age['First-Time Home Buyer '] == 1]\n",
    "age_first_time = age_first_time_loc[\"Age of Borrower\"].mean()\n",
    "age_first_time"
   ]
  },
  {
   "cell_type": "code",
   "execution_count": 101,
   "metadata": {},
   "outputs": [
    {
     "data": {
      "text/plain": [
       "36.782378835479506"
      ]
     },
     "execution_count": 101,
     "metadata": {},
     "output_type": "execute_result"
    }
   ],
   "source": [
    "co_age = complete_data.loc[complete_data['Age of Co-Borrower'] < 999]\n",
    "co_age_first_time_loc = co_age.loc[co_age['First-Time Home Buyer '] == 1]\n",
    "co_age_first_time = co_age_first_time_loc[\"Age of Co-Borrower\"].mean()\n",
    "co_age_first_time"
   ]
  },
  {
   "cell_type": "code",
   "execution_count": 102,
   "metadata": {},
   "outputs": [
    {
     "data": {
      "text/plain": [
       "36.42152362556176"
      ]
     },
     "execution_count": 102,
     "metadata": {},
     "output_type": "execute_result"
    }
   ],
   "source": [
    "first_time_age = (age_first_time + co_age_first_time) /2\n",
    "first_time_age"
   ]
  },
  {
   "cell_type": "code",
   "execution_count": 105,
   "metadata": {},
   "outputs": [],
   "source": [
    "complete_data[\"Income v Area Income\"]= (complete_data['Borrower’s (or Borrowers’) Annual Income']/complete_data['Local Area Median Income'])"
   ]
  },
  {
   "cell_type": "code",
   "execution_count": 115,
   "metadata": {},
   "outputs": [
    {
     "data": {
      "text/plain": [
       "1242498"
      ]
     },
     "execution_count": 115,
     "metadata": {},
     "output_type": "execute_result"
    }
   ],
   "source": [
    "under_1 = complete_data.loc[complete_data['Income v Area Income'] < 1]\n",
    "under_1_count = under_1['Enterprise Flag'].count()\n",
    "under_1_count"
   ]
  },
  {
   "cell_type": "code",
   "execution_count": 117,
   "metadata": {},
   "outputs": [
    {
     "data": {
      "text/plain": [
       "1645058"
      ]
     },
     "execution_count": 117,
     "metadata": {},
     "output_type": "execute_result"
    }
   ],
   "source": [
    "under_2 = complete_data.loc[complete_data['Income v Area Income'] <1.9999]\n",
    "under_2_count = under_2['Enterprise Flag'].count() - under_1_count\n",
    "under_2_count"
   ]
  },
  {
   "cell_type": "code",
   "execution_count": 119,
   "metadata": {},
   "outputs": [
    {
     "data": {
      "text/plain": [
       "535570"
      ]
     },
     "execution_count": 119,
     "metadata": {},
     "output_type": "execute_result"
    }
   ],
   "source": [
    "under_3 = complete_data.loc[complete_data['Income v Area Income'] < 3]\n",
    "under_3_count = under_3['Enterprise Flag'].count() - under_2_count - under_1_count\n",
    "under_3_count"
   ]
  },
  {
   "cell_type": "code",
   "execution_count": 121,
   "metadata": {},
   "outputs": [
    {
     "data": {
      "text/plain": [
       "281919"
      ]
     },
     "execution_count": 121,
     "metadata": {},
     "output_type": "execute_result"
    }
   ],
   "source": [
    "over_3 = complete_data.loc[complete_data['Income v Area Income'] > 3]\n",
    "over_3_count = over_3['Enterprise Flag'].count()\n",
    "over_3_count"
   ]
  },
  {
   "cell_type": "code",
   "execution_count": 132,
   "metadata": {},
   "outputs": [
    {
     "data": {
      "text/plain": [
       "([<matplotlib.patches.Wedge at 0x1fcb9d14dd8>,\n",
       "  <matplotlib.patches.Wedge at 0x1fcb9d1f358>,\n",
       "  <matplotlib.patches.Wedge at 0x1fcb9d1f898>,\n",
       "  <matplotlib.patches.Wedge at 0x1fcb9d1fdd8>],\n",
       " [Text(0.949119,0.556033,'< 1'),\n",
       "  Text(-1.08538,0.17875,'1-2'),\n",
       "  Text(0.126204,-1.09274,'2-3'),\n",
       "  Text(0.795313,-0.759919,'> 3')])"
      ]
     },
     "execution_count": 132,
     "metadata": {},
     "output_type": "execute_result"
    },
    {
     "data": {
      "image/png": "[encoded data removed]",
      "text/plain": [
       "<Figure size 432x288 with 1 Axes>"
      ]
     },
     "metadata": {},
     "output_type": "display_data"
    }
   ],
   "source": [
    "income_ratios = [under_1_count, under_2_count, under_3_count, over_3_count]\n",
    "labels = [\"< 1\", '1-2', '2-3', '> 3']\n",
    "plt.pie(income_ratios, labels=labels, startangle= 330)"
   ]
  }
 ],
 "metadata": {
  "kernelspec": {
   "display_name": "Python 3",
   "language": "python",
   "name": "python3"
  },
  "language_info": {
   "codemirror_mode": {
    "name": "ipython",
    "version": 3
   },
   "file_extension": ".py",
   "mimetype": "text/x-python",
   "name": "python",
   "nbconvert_exporter": "python",
   "pygments_lexer": "ipython3",
   "version": "3.7.0"
  }
 },
 "nbformat": 4,
 "nbformat_minor": 2
}
