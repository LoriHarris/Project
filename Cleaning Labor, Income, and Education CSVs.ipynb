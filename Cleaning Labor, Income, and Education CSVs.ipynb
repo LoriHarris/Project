{
 "cells": [
  {
   "cell_type": "code",
   "execution_count": 375,
   "metadata": {},
   "outputs": [],
   "source": [
    "import pandas as pd\n",
    "import numpy as np\n",
    "import matplotlib.pyplot as plt\n",
    "import csv"
   ]
  },
  {
   "cell_type": "code",
   "execution_count": 376,
   "metadata": {},
   "outputs": [
    {
     "data": {
      "text/html": [
       "<div>\n",
       "<style scoped>\n",
       "    .dataframe tbody tr th:only-of-type {\n",
       "        vertical-align: middle;\n",
       "    }\n",
       "\n",
       "    .dataframe tbody tr th {\n",
       "        vertical-align: top;\n",
       "    }\n",
       "\n",
       "    .dataframe thead th {\n",
       "        text-align: right;\n",
       "    }\n",
       "</style>\n",
       "<table border=\"1\" class=\"dataframe\">\n",
       "  <thead>\n",
       "    <tr style=\"text-align: right;\">\n",
       "      <th></th>\n",
       "      <th>Year</th>\n",
       "      <th>Number\n",
       "(thousands)</th>\n",
       "      <th>Per Capita Income</th>\n",
       "      <th>Per Capita Adjusted for 2017 USD</th>\n",
       "    </tr>\n",
       "  </thead>\n",
       "  <tbody>\n",
       "    <tr>\n",
       "      <th>0</th>\n",
       "      <td>2017</td>\n",
       "      <td>323,156</td>\n",
       "      <td>34,489</td>\n",
       "      <td>34,489</td>\n",
       "    </tr>\n",
       "    <tr>\n",
       "      <th>1</th>\n",
       "      <td>2016</td>\n",
       "      <td>320,372</td>\n",
       "      <td>33,205</td>\n",
       "      <td>33,919</td>\n",
       "    </tr>\n",
       "    <tr>\n",
       "      <th>2</th>\n",
       "      <td>2015</td>\n",
       "      <td>318,868</td>\n",
       "      <td>31,653</td>\n",
       "      <td>32,751</td>\n",
       "    </tr>\n",
       "    <tr>\n",
       "      <th>3</th>\n",
       "      <td>2014</td>\n",
       "      <td>316,168</td>\n",
       "      <td>30,176</td>\n",
       "      <td>31,276</td>\n",
       "    </tr>\n",
       "    <tr>\n",
       "      <th>4</th>\n",
       "      <td>2013 (39)</td>\n",
       "      <td>313,443</td>\n",
       "      <td>30,027</td>\n",
       "      <td>31,649</td>\n",
       "    </tr>\n",
       "  </tbody>\n",
       "</table>\n",
       "</div>"
      ],
      "text/plain": [
       "        Year Number\\n(thousands) Per Capita Income  \\\n",
       "0       2017             323,156            34,489   \n",
       "1       2016             320,372            33,205   \n",
       "2       2015             318,868            31,653   \n",
       "3       2014             316,168            30,176   \n",
       "4  2013 (39)             313,443            30,027   \n",
       "\n",
       "  Per Capita Adjusted for 2017 USD  \n",
       "0                           34,489  \n",
       "1                           33,919  \n",
       "2                           32,751  \n",
       "3                           31,276  \n",
       "4                           31,649  "
      ]
     },
     "execution_count": 376,
     "metadata": {},
     "output_type": "execute_result"
    }
   ],
   "source": [
    "income_data = pd.read_csv(\"historical_income.csv\")\n",
    "income_data.head()"
   ]
  },
  {
   "cell_type": "code",
   "execution_count": 377,
   "metadata": {},
   "outputs": [
    {
     "data": {
      "text/plain": [
       "array([4.2, 4.3, 4.2, 4. , 4. , 4. , 3.9, 3.9, 4.3, 4.5, 5. , 5.7, 5.7,\n",
       "       5.8, 5.7, 6. , 5.9, 6.3, 6.1, 5.7, 5.8, 5.6, 5.4, 5.4, 5.2, 5. ,\n",
       "       5. , 4.9, 4.7, 4.6, 4.5, 4.4, 4.4, 4.6, 4.7, 5. , 5.1, 5.6, 6.1,\n",
       "       7.3, 8.7, 9.5, 9.8, 9.9, 9.9, 9.4, 9.5, 9.3, 9. , 9.1, 9. , 8.5,\n",
       "       8.2, 8.2, 7.8, 7.9, 7.5, 7.5, 7.2, 6.7, 6.7, 6.1, 5.9, 5.6, 5.4,\n",
       "       5.3, 5. , 5. , 5. , 4.9, 5. , 4.7, 4.4, 4.3, 4.2, 4.1, 4. , 4. ,\n",
       "       3.7, 3.9])"
      ]
     },
     "execution_count": 377,
     "metadata": {},
     "output_type": "execute_result"
    }
   ],
   "source": [
    "labor_data = pd.read_csv(\"labor_stats.csv\")\n",
    "labor_data[\"Annual\"] = labor_data.iloc[:, [1,2,3,4,5,6,7,8,9,10,11,12]].mean(axis=1)\n",
    "labor2 = labor_data.drop(labor_data.index[:19])\n",
    "Mar = labor_data[\"Mar\"]\n",
    "Jun = labor_data[\"Jun\"]\n",
    "Sep = labor_data[\"Sep\"]\n",
    "Dec = labor_data[\"Dec\"]\n",
    "Avg = labor_data[\"Annual\"]\n",
    "Mar1 = Mar[19:]\n",
    "Jun1 = Jun[19:]\n",
    "Sep1 = Sep[19:]\n",
    "Dec1 = Dec[19:]\n",
    "\n",
    "labor2\n",
    "unemp = list(zip(Mar1, Jun1, Sep1, Dec1))\n",
    "unemp1 = pd.Series(unemp).values\n",
    "unemp2 = np.concatenate(unemp1)\n",
    "unemp2"
   ]
  },
  {
   "cell_type": "code",
   "execution_count": 378,
   "metadata": {},
   "outputs": [
    {
     "data": {
      "text/html": [
       "<div>\n",
       "<style scoped>\n",
       "    .dataframe tbody tr th:only-of-type {\n",
       "        vertical-align: middle;\n",
       "    }\n",
       "\n",
       "    .dataframe tbody tr th {\n",
       "        vertical-align: top;\n",
       "    }\n",
       "\n",
       "    .dataframe thead th {\n",
       "        text-align: right;\n",
       "    }\n",
       "</style>\n",
       "<table border=\"1\" class=\"dataframe\">\n",
       "  <thead>\n",
       "    <tr style=\"text-align: right;\">\n",
       "      <th></th>\n",
       "      <th>Educational attainment\n",
       "and income year</th>\n",
       "      <th>Number\n",
       "(thousand)</th>\n",
       "      <th>Median income</th>\n",
       "      <th>Median Income in 2017 USD</th>\n",
       "      <th>Mean income</th>\n",
       "      <th>Mean Income in 2017 USD</th>\n",
       "      <th>Educational Attainment</th>\n",
       "    </tr>\n",
       "  </thead>\n",
       "  <tbody>\n",
       "    <tr>\n",
       "      <th>1</th>\n",
       "      <td>2017</td>\n",
       "      <td>121,375</td>\n",
       "      <td>62,625</td>\n",
       "      <td>62,625</td>\n",
       "      <td>87,734</td>\n",
       "      <td>87,734</td>\n",
       "      <td>Total</td>\n",
       "    </tr>\n",
       "    <tr>\n",
       "      <th>2</th>\n",
       "      <td>2016</td>\n",
       "      <td>119,985</td>\n",
       "      <td>60,523</td>\n",
       "      <td>61,825</td>\n",
       "      <td>84,538</td>\n",
       "      <td>86,356</td>\n",
       "      <td>Total</td>\n",
       "    </tr>\n",
       "    <tr>\n",
       "      <th>3</th>\n",
       "      <td>2015</td>\n",
       "      <td>119,457</td>\n",
       "      <td>58,044</td>\n",
       "      <td>60,057</td>\n",
       "      <td>80,837</td>\n",
       "      <td>83,640</td>\n",
       "      <td>Total</td>\n",
       "    </tr>\n",
       "    <tr>\n",
       "      <th>4</th>\n",
       "      <td>2014</td>\n",
       "      <td>118,217</td>\n",
       "      <td>55,283</td>\n",
       "      <td>57,299</td>\n",
       "      <td>77,297</td>\n",
       "      <td>80,115</td>\n",
       "      <td>Total</td>\n",
       "    </tr>\n",
       "    <tr>\n",
       "      <th>5</th>\n",
       "      <td>2013 (39)</td>\n",
       "      <td>117,279</td>\n",
       "      <td>55,407</td>\n",
       "      <td>58,400</td>\n",
       "      <td>76,898</td>\n",
       "      <td>81,052</td>\n",
       "      <td>Total</td>\n",
       "    </tr>\n",
       "  </tbody>\n",
       "</table>\n",
       "</div>"
      ],
      "text/plain": [
       "  Educational attainment\\nand income year Number\\n(thousand) Median income  \\\n",
       "1                                    2017            121,375        62,625   \n",
       "2                                    2016            119,985        60,523   \n",
       "3                                    2015            119,457        58,044   \n",
       "4                                    2014            118,217        55,283   \n",
       "5                               2013 (39)            117,279        55,407   \n",
       "\n",
       "  Median Income in 2017 USD Mean income Mean Income in 2017 USD  \\\n",
       "1                    62,625      87,734                  87,734   \n",
       "2                    61,825      84,538                  86,356   \n",
       "3                    60,057      80,837                  83,640   \n",
       "4                    57,299      77,297                  80,115   \n",
       "5                    58,400      76,898                  81,052   \n",
       "\n",
       "  Educational Attainment  \n",
       "1                  Total  \n",
       "2                  Total  \n",
       "3                  Total  \n",
       "4                  Total  \n",
       "5                  Total  "
      ]
     },
     "execution_count": 378,
     "metadata": {},
     "output_type": "execute_result"
    }
   ],
   "source": [
    "education_data = pd.read_csv(\"education_vs_income.csv\", skiprows = 4)\n",
    "education_data.rename(columns = {\n",
    "    \"Unnamed: 3\": \"Median Income in 2017 USD\",\n",
    "    \"Unnamed: 5\": \"Mean Income in 2017 USD\"}, inplace=True)\n",
    "\n",
    "education_data[\"Educational Attainment\"] = \"\"\n",
    "education_data.iloc[1:32, education_data.columns.get_loc(\"Educational Attainment\")] = \"Total\"\n",
    "education_data.iloc[32:60, education_data.columns.get_loc(\"Educational Attainment\")] = \"9th Grade\"\n",
    "education_data.iloc[63:91, education_data.columns.get_loc(\"Educational Attainment\")] = \"High School No Diploma\"\n",
    "education_data.iloc[94:122, education_data.columns.get_loc(\"Educational Attainment\")] = \"GED or HS Diploma\"\n",
    "education_data.iloc[125:153, education_data.columns.get_loc(\"Educational Attainment\")] = \"Some College\"\n",
    "education_data.iloc[156:184, education_data.columns.get_loc(\"Educational Attainment\")] = \"Associate Degree\"\n",
    "education_data.iloc[187:215, education_data.columns.get_loc(\"Educational Attainment\")] = \"Bachelor's Degree or More\"\n",
    "education_data.iloc[218:246, education_data.columns.get_loc(\"Educational Attainment\")] = \"Bachelor's Degree\"\n",
    "education_data.iloc[249:277, education_data.columns.get_loc(\"Educational Attainment\")] = \"Master's Degree\"\n",
    "education_data.iloc[280:308, education_data.columns.get_loc(\"Educational Attainment\")] = \"Professional Degree\"\n",
    "education_data.iloc[311:339, education_data.columns.get_loc(\"Educational Attainment\")] = \"Doctorate Degree\"\n",
    "\n",
    "edu_data = education_data.dropna(axis=0, how=\"any\")\n",
    "edu_csv = open(\"Education_Data_Cleaned.csv\", \"w\")\n",
    "csv.writer(edu_csv)\n",
    "edu_data.to_csv(\"Education_Data_Cleaned.csv\")\n",
    "edu_data.head()"
   ]
  },
  {
   "cell_type": "code",
   "execution_count": 379,
   "metadata": {},
   "outputs": [
    {
     "data": {
      "text/html": [
       "<div>\n",
       "<style scoped>\n",
       "    .dataframe tbody tr th:only-of-type {\n",
       "        vertical-align: middle;\n",
       "    }\n",
       "\n",
       "    .dataframe tbody tr th {\n",
       "        vertical-align: top;\n",
       "    }\n",
       "\n",
       "    .dataframe thead th {\n",
       "        text-align: right;\n",
       "    }\n",
       "</style>\n",
       "<table border=\"1\" class=\"dataframe\">\n",
       "  <thead>\n",
       "    <tr style=\"text-align: right;\">\n",
       "      <th></th>\n",
       "      <th>RegionID</th>\n",
       "      <th>RegionName</th>\n",
       "      <th>PopRank</th>\n",
       "      <th>tier</th>\n",
       "      <th>1999-06-30</th>\n",
       "      <th>1999-09-30</th>\n",
       "      <th>1999-12-31</th>\n",
       "      <th>2000-03-31</th>\n",
       "      <th>2000-06-30</th>\n",
       "      <th>2000-09-30</th>\n",
       "      <th>...</th>\n",
       "      <th>2015-03-31</th>\n",
       "      <th>2015-06-30</th>\n",
       "      <th>2015-09-30</th>\n",
       "      <th>2015-12-31</th>\n",
       "      <th>2016-03-31</th>\n",
       "      <th>2016-06-30</th>\n",
       "      <th>2016-09-30</th>\n",
       "      <th>2016-12-31</th>\n",
       "      <th>2017-03-31</th>\n",
       "      <th>2017-06-30</th>\n",
       "    </tr>\n",
       "  </thead>\n",
       "  <tbody>\n",
       "    <tr>\n",
       "      <th>0</th>\n",
       "      <td>102001</td>\n",
       "      <td>United States</td>\n",
       "      <td>0</td>\n",
       "      <td>Bottom Tier</td>\n",
       "      <td>0.303985</td>\n",
       "      <td>0.316021</td>\n",
       "      <td>0.323100</td>\n",
       "      <td>0.337265</td>\n",
       "      <td>0.341345</td>\n",
       "      <td>0.331888</td>\n",
       "      <td>...</td>\n",
       "      <td>0.198006</td>\n",
       "      <td>0.205808</td>\n",
       "      <td>0.205446</td>\n",
       "      <td>0.210353</td>\n",
       "      <td>0.206243</td>\n",
       "      <td>0.207603</td>\n",
       "      <td>0.209890</td>\n",
       "      <td>0.235805</td>\n",
       "      <td>0.241146</td>\n",
       "      <td>0.238614</td>\n",
       "    </tr>\n",
       "    <tr>\n",
       "      <th>1</th>\n",
       "      <td>102001</td>\n",
       "      <td>United States</td>\n",
       "      <td>0</td>\n",
       "      <td>Middle Tier</td>\n",
       "      <td>0.185879</td>\n",
       "      <td>0.193666</td>\n",
       "      <td>0.200559</td>\n",
       "      <td>0.210686</td>\n",
       "      <td>0.213967</td>\n",
       "      <td>0.207215</td>\n",
       "      <td>...</td>\n",
       "      <td>0.140809</td>\n",
       "      <td>0.145112</td>\n",
       "      <td>0.144375</td>\n",
       "      <td>0.146110</td>\n",
       "      <td>0.142303</td>\n",
       "      <td>0.141536</td>\n",
       "      <td>0.141410</td>\n",
       "      <td>0.156327</td>\n",
       "      <td>0.157769</td>\n",
       "      <td>0.153850</td>\n",
       "    </tr>\n",
       "    <tr>\n",
       "      <th>2</th>\n",
       "      <td>102001</td>\n",
       "      <td>United States</td>\n",
       "      <td>0</td>\n",
       "      <td>Upper Tier</td>\n",
       "      <td>0.152307</td>\n",
       "      <td>0.158555</td>\n",
       "      <td>0.162713</td>\n",
       "      <td>0.170843</td>\n",
       "      <td>0.173628</td>\n",
       "      <td>0.168954</td>\n",
       "      <td>...</td>\n",
       "      <td>0.112647</td>\n",
       "      <td>0.116110</td>\n",
       "      <td>0.116479</td>\n",
       "      <td>0.119109</td>\n",
       "      <td>0.116787</td>\n",
       "      <td>0.116844</td>\n",
       "      <td>0.117129</td>\n",
       "      <td>0.130298</td>\n",
       "      <td>0.132079</td>\n",
       "      <td>0.129346</td>\n",
       "    </tr>\n",
       "  </tbody>\n",
       "</table>\n",
       "<p>3 rows × 77 columns</p>\n",
       "</div>"
      ],
      "text/plain": [
       "   RegionID     RegionName  PopRank         tier  1999-06-30  1999-09-30  \\\n",
       "0    102001  United States        0  Bottom Tier    0.303985    0.316021   \n",
       "1    102001  United States        0  Middle Tier    0.185879    0.193666   \n",
       "2    102001  United States        0   Upper Tier    0.152307    0.158555   \n",
       "\n",
       "   1999-12-31  2000-03-31  2000-06-30  2000-09-30     ...      2015-03-31  \\\n",
       "0    0.323100    0.337265    0.341345    0.331888     ...        0.198006   \n",
       "1    0.200559    0.210686    0.213967    0.207215     ...        0.140809   \n",
       "2    0.162713    0.170843    0.173628    0.168954     ...        0.112647   \n",
       "\n",
       "   2015-06-30  2015-09-30  2015-12-31  2016-03-31  2016-06-30  2016-09-30  \\\n",
       "0    0.205808    0.205446    0.210353    0.206243    0.207603    0.209890   \n",
       "1    0.145112    0.144375    0.146110    0.142303    0.141536    0.141410   \n",
       "2    0.116110    0.116479    0.119109    0.116787    0.116844    0.117129   \n",
       "\n",
       "   2016-12-31  2017-03-31  2017-06-30  \n",
       "0    0.235805    0.241146    0.238614  \n",
       "1    0.156327    0.157769    0.153850  \n",
       "2    0.130298    0.132079    0.129346  \n",
       "\n",
       "[3 rows x 77 columns]"
      ]
     },
     "execution_count": 379,
     "metadata": {},
     "output_type": "execute_result"
    }
   ],
   "source": [
    "mort_csv = open(\"tieredaffordability_mortgage.csv\")\n",
    "mort_df = (pd.read_csv(mort_csv))\n",
    "\n",
    "mort_df1 = mort_df.drop(mort_df.index[3:])\n",
    "mort_df1\n",
    "#mort_df1 = mort_df1.T\n",
    "#mort_df1.drop(mort_df1.index[:3])\n",
    "#mort_df1\n",
    "#mort_csv = open(\"Mort_Data_Cleaned.csv\", \"w\")\n",
    "#csv.writer(mort_csv)\n",
    "#mort_df1.to_csv(\"Mort_Data_Cleaned.csv\")\n",
    "#mort_df1.head()\n"
   ]
  },
  {
   "cell_type": "code",
   "execution_count": 380,
   "metadata": {},
   "outputs": [
    {
     "data": {
      "text/html": [
       "<div>\n",
       "<style scoped>\n",
       "    .dataframe tbody tr th:only-of-type {\n",
       "        vertical-align: middle;\n",
       "    }\n",
       "\n",
       "    .dataframe tbody tr th {\n",
       "        vertical-align: top;\n",
       "    }\n",
       "\n",
       "    .dataframe thead th {\n",
       "        text-align: right;\n",
       "    }\n",
       "</style>\n",
       "<table border=\"1\" class=\"dataframe\">\n",
       "  <thead>\n",
       "    <tr style=\"text-align: right;\">\n",
       "      <th></th>\n",
       "      <th>tier</th>\n",
       "      <th>Bottom Tier</th>\n",
       "      <th>Middle Tier</th>\n",
       "      <th>Upper Tier</th>\n",
       "      <th>Unemployment</th>\n",
       "    </tr>\n",
       "  </thead>\n",
       "  <tbody>\n",
       "    <tr>\n",
       "      <th>0</th>\n",
       "      <td>6/30/1999</td>\n",
       "      <td>0.303984881</td>\n",
       "      <td>0.185878811</td>\n",
       "      <td>0.152307116</td>\n",
       "      <td>4.2</td>\n",
       "    </tr>\n",
       "    <tr>\n",
       "      <th>4</th>\n",
       "      <td>6/30/2000</td>\n",
       "      <td>0.341344989</td>\n",
       "      <td>0.213967167</td>\n",
       "      <td>0.173627587</td>\n",
       "      <td>4.0</td>\n",
       "    </tr>\n",
       "    <tr>\n",
       "      <th>8</th>\n",
       "      <td>6/30/2001</td>\n",
       "      <td>0.318768627</td>\n",
       "      <td>0.199993349</td>\n",
       "      <td>0.161792869</td>\n",
       "      <td>4.3</td>\n",
       "    </tr>\n",
       "    <tr>\n",
       "      <th>12</th>\n",
       "      <td>6/30/2002</td>\n",
       "      <td>0.313119363</td>\n",
       "      <td>0.199736994</td>\n",
       "      <td>0.159650582</td>\n",
       "      <td>5.7</td>\n",
       "    </tr>\n",
       "    <tr>\n",
       "      <th>16</th>\n",
       "      <td>6/30/2003</td>\n",
       "      <td>0.281879374</td>\n",
       "      <td>0.181167144</td>\n",
       "      <td>0.143136333</td>\n",
       "      <td>5.9</td>\n",
       "    </tr>\n",
       "    <tr>\n",
       "      <th>20</th>\n",
       "      <td>6/30/2004</td>\n",
       "      <td>0.34148984</td>\n",
       "      <td>0.217823294</td>\n",
       "      <td>0.172968522</td>\n",
       "      <td>5.8</td>\n",
       "    </tr>\n",
       "    <tr>\n",
       "      <th>24</th>\n",
       "      <td>6/30/2005</td>\n",
       "      <td>0.343928445</td>\n",
       "      <td>0.215177261</td>\n",
       "      <td>0.177572337</td>\n",
       "      <td>5.2</td>\n",
       "    </tr>\n",
       "    <tr>\n",
       "      <th>28</th>\n",
       "      <td>6/30/2006</td>\n",
       "      <td>0.396412509</td>\n",
       "      <td>0.252333646</td>\n",
       "      <td>0.208452645</td>\n",
       "      <td>4.7</td>\n",
       "    </tr>\n",
       "    <tr>\n",
       "      <th>32</th>\n",
       "      <td>6/30/2007</td>\n",
       "      <td>0.401407036</td>\n",
       "      <td>0.243610718</td>\n",
       "      <td>0.202564297</td>\n",
       "      <td>4.4</td>\n",
       "    </tr>\n",
       "    <tr>\n",
       "      <th>36</th>\n",
       "      <td>6/30/2008</td>\n",
       "      <td>0.364226701</td>\n",
       "      <td>0.211560498</td>\n",
       "      <td>0.180696863</td>\n",
       "      <td>5.1</td>\n",
       "    </tr>\n",
       "    <tr>\n",
       "      <th>40</th>\n",
       "      <td>6/30/2009</td>\n",
       "      <td>0.288143297</td>\n",
       "      <td>0.178988375</td>\n",
       "      <td>0.15027766</td>\n",
       "      <td>8.7</td>\n",
       "    </tr>\n",
       "    <tr>\n",
       "      <th>44</th>\n",
       "      <td>6/30/2010</td>\n",
       "      <td>0.255029779</td>\n",
       "      <td>0.16125511</td>\n",
       "      <td>0.133848508</td>\n",
       "      <td>9.9</td>\n",
       "    </tr>\n",
       "    <tr>\n",
       "      <th>48</th>\n",
       "      <td>6/30/2011</td>\n",
       "      <td>0.218314719</td>\n",
       "      <td>0.146314333</td>\n",
       "      <td>0.119141303</td>\n",
       "      <td>9.0</td>\n",
       "    </tr>\n",
       "    <tr>\n",
       "      <th>52</th>\n",
       "      <td>6/30/2012</td>\n",
       "      <td>0.185505895</td>\n",
       "      <td>0.129276084</td>\n",
       "      <td>0.105144348</td>\n",
       "      <td>8.2</td>\n",
       "    </tr>\n",
       "    <tr>\n",
       "      <th>56</th>\n",
       "      <td>6/30/2013</td>\n",
       "      <td>0.199449908</td>\n",
       "      <td>0.13952971</td>\n",
       "      <td>0.11404817</td>\n",
       "      <td>7.5</td>\n",
       "    </tr>\n",
       "    <tr>\n",
       "      <th>60</th>\n",
       "      <td>6/30/2014</td>\n",
       "      <td>0.203001017</td>\n",
       "      <td>0.146978675</td>\n",
       "      <td>0.117362869</td>\n",
       "      <td>6.7</td>\n",
       "    </tr>\n",
       "    <tr>\n",
       "      <th>64</th>\n",
       "      <td>6/30/2015</td>\n",
       "      <td>0.205807802</td>\n",
       "      <td>0.145111501</td>\n",
       "      <td>0.116109795</td>\n",
       "      <td>5.4</td>\n",
       "    </tr>\n",
       "    <tr>\n",
       "      <th>68</th>\n",
       "      <td>6/30/2016</td>\n",
       "      <td>0.207603011</td>\n",
       "      <td>0.141535578</td>\n",
       "      <td>0.116843961</td>\n",
       "      <td>5.0</td>\n",
       "    </tr>\n",
       "    <tr>\n",
       "      <th>72</th>\n",
       "      <td>6/30/2017</td>\n",
       "      <td>0.238614377</td>\n",
       "      <td>0.153850275</td>\n",
       "      <td>0.129345562</td>\n",
       "      <td>4.4</td>\n",
       "    </tr>\n",
       "  </tbody>\n",
       "</table>\n",
       "</div>"
      ],
      "text/plain": [
       "         tier  Bottom Tier  Middle Tier   Upper Tier  Unemployment\n",
       "0   6/30/1999  0.303984881  0.185878811  0.152307116           4.2\n",
       "4   6/30/2000  0.341344989  0.213967167  0.173627587           4.0\n",
       "8   6/30/2001  0.318768627  0.199993349  0.161792869           4.3\n",
       "12  6/30/2002  0.313119363  0.199736994  0.159650582           5.7\n",
       "16  6/30/2003  0.281879374  0.181167144  0.143136333           5.9\n",
       "20  6/30/2004   0.34148984  0.217823294  0.172968522           5.8\n",
       "24  6/30/2005  0.343928445  0.215177261  0.177572337           5.2\n",
       "28  6/30/2006  0.396412509  0.252333646  0.208452645           4.7\n",
       "32  6/30/2007  0.401407036  0.243610718  0.202564297           4.4\n",
       "36  6/30/2008  0.364226701  0.211560498  0.180696863           5.1\n",
       "40  6/30/2009  0.288143297  0.178988375   0.15027766           8.7\n",
       "44  6/30/2010  0.255029779   0.16125511  0.133848508           9.9\n",
       "48  6/30/2011  0.218314719  0.146314333  0.119141303           9.0\n",
       "52  6/30/2012  0.185505895  0.129276084  0.105144348           8.2\n",
       "56  6/30/2013  0.199449908   0.13952971   0.11404817           7.5\n",
       "60  6/30/2014  0.203001017  0.146978675  0.117362869           6.7\n",
       "64  6/30/2015  0.205807802  0.145111501  0.116109795           5.4\n",
       "68  6/30/2016  0.207603011  0.141535578  0.116843961           5.0\n",
       "72  6/30/2017  0.238614377  0.153850275  0.129345562           4.4"
      ]
     },
     "execution_count": 380,
     "metadata": {},
     "output_type": "execute_result"
    }
   ],
   "source": [
    "mort_csv = open(\"mort_data_cleaned1.csv\")\n",
    "mort_df2 = (pd.read_csv(mort_csv))\n",
    "mort_df2[\"Unemployment\"] = [4.2, 4.3, 4.2, 4. , 4. , 4. , 3.9, 3.9, 4.3, 4.5, 5. , 5.7, 5.7,\n",
    "       5.8, 5.7, 6. , 5.9, 6.3, 6.1, 5.7, 5.8, 5.6, 5.4, 5.4, 5.2, 5. ,\n",
    "       5. , 4.9, 4.7, 4.6, 4.5, 4.4, 4.4, 4.6, 4.7, 5. , 5.1, 5.6, 6.1,\n",
    "       7.3, 8.7, 9.5, 9.8, 9.9, 9.9, 9.4, 9.5, 9.3, 9. , 9.1, 9. , 8.5,\n",
    "       8.2, 8.2, 7.8, 7.9, 7.5, 7.5, 7.2, 6.7, 6.7, 6.1, 5.9, 5.6, 5.4,\n",
    "       5.3, 5. , 5. , 5. , 4.9, 5. , 4.7, 4.4, 4.3, 4.2, 4.1, 4. , 4. ,\n",
    "       3.7]\n",
    "mort_df3 = mort_df2.drop(mort_df2.index[-6:])\n",
    "#mort_df4 = mort_df3[mort_df3.tier != '6/']\n",
    "#mort_df3[mort_df3.tier != '3/']\n",
    "#mort_df3[mort_df3.tier != '9/']\n",
    "mort_df4 = mort_df3[::4]\n",
    "mort_df4"
   ]
  },
  {
   "cell_type": "code",
   "execution_count": 381,
   "metadata": {},
   "outputs": [
    {
     "data": {
      "text/plain": [
       "array([[<matplotlib.axes._subplots.AxesSubplot object at 0x0000000019D7B080>,\n",
       "        <matplotlib.axes._subplots.AxesSubplot object at 0x0000000019DB5780>]],\n",
       "      dtype=object)"
      ]
     },
     "execution_count": 381,
     "metadata": {},
     "output_type": "execute_result"
    },
    {
     "data": {
      "image/png": "[encoded data removed]",
      "text/plain": [
       "<Figure size 432x288 with 2 Axes>"
      ]
     },
     "metadata": {
      "needs_background": "light"
     },
     "output_type": "display_data"
    }
   ],
   "source": [
    "bins = [0, .1, .2, .3, .4, .5]\n",
    "labels = [\"<10%\", \"<20%\", \"<30%\", \"<40%\", \"<50%\"]\n",
    "mort_df3[\"Bottom Tier\"] = pd.to_numeric(mort_df3[\"Bottom Tier\"])\n",
    "ticks = pd.cut(mort_df3[\"Bottom Tier\"], bins, labels=labels)\n",
    "mort_df3.hist(bins=5)"
   ]
  },
  {
   "cell_type": "code",
   "execution_count": 396,
   "metadata": {},
   "outputs": [
    {
     "data": {
      "text/plain": [
       "0     %0\n",
       "4     %0\n",
       "8     %0\n",
       "12    %0\n",
       "16    %0\n",
       "20    %0\n",
       "24    %0\n",
       "28    %0\n",
       "32    %0\n",
       "36    %0\n",
       "40    %0\n",
       "44    %0\n",
       "48    %0\n",
       "52    %0\n",
       "56    %0\n",
       "60    %0\n",
       "64    %0\n",
       "68    %0\n",
       "72    %0\n",
       "Name: Bottom Tier, dtype: object"
      ]
     },
     "execution_count": 396,
     "metadata": {},
     "output_type": "execute_result"
    }
   ],
   "source": [
    "\n",
    "bottom = mort_df4[\"Bottom Tier\"].map(\"%{2:.1}\".format)\n",
    "bottom\n",
    " "
   ]
  },
  {
   "cell_type": "code",
   "execution_count": 382,
   "metadata": {},
   "outputs": [
    {
     "data": {
      "text/plain": [
       "[0, 10, 0, 16]"
      ]
     },
     "execution_count": 382,
     "metadata": {},
     "output_type": "execute_result"
    },
    {
     "data": {
      "image/png": "[encoded data removed]",
      "text/plain": [
       "<Figure size 432x288 with 1 Axes>"
      ]
     },
     "metadata": {
      "needs_background": "light"
     },
     "output_type": "display_data"
    }
   ],
   "source": [
    "rate = mort_df4[\"Unemployment\"]\n",
    "\n",
    "plt.plot(rate, mort_df4[\"Upper Tier\"])\n",
    "#plt.plot(rate, mort_df4[\"Middle Tier\"])\n",
    "#plt.plot(rate, mort_df4[\"Bottom Tier\"])\n",
    "plt.title(\"Unemployment rate vs Upper Tier\")\n",
    "plt.xlabel(\"Unemployment Rate\")\n",
    "plt.ylabel(\"Month/Year\")\n",
    "plt.axis([0,10,0,16])\n"
   ]
  },
  {
   "cell_type": "code",
   "execution_count": 383,
   "metadata": {},
   "outputs": [
    {
     "data": {
      "text/plain": [
       "Text(0, 0.5, 'Month/Year')"
      ]
     },
     "execution_count": 383,
     "metadata": {},
     "output_type": "execute_result"
    },
    {
     "data": {
      "image/png": "[encoded data removed]",
      "text/plain": [
       "<Figure size 432x288 with 1 Axes>"
      ]
     },
     "metadata": {
      "needs_background": "light"
     },
     "output_type": "display_data"
    }
   ],
   "source": [
    "plt.plot(rate, mort_df4[\"Middle Tier\"])\n",
    "#plt.plot(rate, mort_df4[\"Bottom Tier\"])\n",
    "plt.title(\"Unemployment rate vs Middle Tier\")\n",
    "plt.xlabel(\"Unemployment Rate\")\n",
    "plt.ylabel(\"Month/Year\")"
   ]
  },
  {
   "cell_type": "code",
   "execution_count": 384,
   "metadata": {
    "scrolled": true
   },
   "outputs": [
    {
     "data": {
      "text/plain": [
       "Text(0, 0.5, 'Month/Year')"
      ]
     },
     "execution_count": 384,
     "metadata": {},
     "output_type": "execute_result"
    },
    {
     "data": {
      "image/png": "[encoded data removed]",
      "text/plain": [
       "<Figure size 432x288 with 1 Axes>"
      ]
     },
     "metadata": {
      "needs_background": "light"
     },
     "output_type": "display_data"
    }
   ],
   "source": [
    "plt.plot(rate, mort_df4[\"Bottom Tier\"])\n",
    "plt.title(\"Unemployment rate vs Bottom Tier\")\n",
    "plt.xlabel(\"Unemployment Rate\")\n",
    "plt.ylabel(\"Month/Year\")"
   ]
  },
  {
   "cell_type": "code",
   "execution_count": 388,
   "metadata": {},
   "outputs": [
    {
     "data": {
      "text/plain": [
       "[<matplotlib.lines.Line2D at 0x1a1bcbe0>]"
      ]
     },
     "execution_count": 388,
     "metadata": {},
     "output_type": "execute_result"
    },
    {
     "data": {
      "text/plain": [
       "<Figure size 432x288 with 0 Axes>"
      ]
     },
     "metadata": {},
     "output_type": "display_data"
    },
    {
     "data": {
      "image/png": "[encoded data removed]",
      "text/plain": [
       "<Figure size 432x288 with 1 Axes>"
      ]
     },
     "metadata": {
      "needs_background": "light"
     },
     "output_type": "display_data"
    }
   ],
   "source": [
    "plt.figure()\n",
    "plt.subplots()\n",
    "plt.plot(rate, mort_df4[\"Bottom Tier\"])\n",
    "plt.plot(rate, mort_df4[\"Middle Tier\"])\n",
    "plt.plot(rate, mort_df4[\"Upper Tier\"])\n",
    "\n",
    "#plt.step(rate, mort_df4[\"Bottom Tier\"])\n",
    "#plt.step(rate, mort_df4[\"Middle Tier\"])"
   ]
  },
  {
   "cell_type": "code",
   "execution_count": null,
   "metadata": {},
   "outputs": [],
   "source": []
  }
 ],
 "metadata": {
  "kernelspec": {
   "display_name": "Python 3",
   "language": "python",
   "name": "python3"
  },
  "language_info": {
   "codemirror_mode": {
    "name": "ipython",
    "version": 3
   },
   "file_extension": ".py",
   "mimetype": "text/x-python",
   "name": "python",
   "nbconvert_exporter": "python",
   "pygments_lexer": "ipython3",
   "version": "3.7.0"
  }
 },
 "nbformat": 4,
 "nbformat_minor": 2
}
